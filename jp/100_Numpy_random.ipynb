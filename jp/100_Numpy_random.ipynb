{
 "cells": [
  {
   "cell_type": "markdown",
   "metadata": {},
   "source": [
    "# numpy 100本ノック\n",
    "\n",
    "この「100本ノック」は、numpyのメーリングリストやStack Overflowでの議論、およびその他のドキュメントをもとに作成しました。100問に到達するために、いくつか自作した問題も含まれます。この100本ノックのゴールは、numpyの新規ユーザーにも経験者にも有用なクイックリファレンスとなること、また、numpyを教育する人が利用できる実習問題セットの提供です。\n",
    "\n",
    "誤りを見つけたり、もっとこうした方が良いというご意見があれば、ぜひ https://github.com/rougier/numpy-100 のissueにお寄せください。"
   ]
  },
  {
   "cell_type": "markdown",
   "metadata": {},
   "source": [
    "このファイルは自動的に生成されています。問題、解答、ヒントを更新するにはドキュメントを参照してください。"
   ]
  },
  {
   "cell_type": "markdown",
   "metadata": {},
   "source": [
    "(Notebook内で) `initialize.py` を実行すると、`pick()` 関数でランダムに問題を選択できます。`hint(n)` や `answer(n)` としてヒントや解答を選択できます。`n` は選択した問題の番号です。"
   ]
  },
  {
   "cell_type": "code",
   "execution_count": null,
   "metadata": {},
   "outputs": [],
   "source": [
    "%run initialise.py"
   ]
  },
  {
   "cell_type": "code",
   "execution_count": null,
   "metadata": {},
   "outputs": [],
   "source": [
    "pick()"
   ]
  }
 ],
 "metadata": {},
 "nbformat": 4,
 "nbformat_minor": 4
}
